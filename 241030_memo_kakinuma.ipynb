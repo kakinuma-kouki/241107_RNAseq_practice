{
 "cells": [
  {
   "cell_type": "markdown",
   "id": "b251e217-4ad4-408d-b5ab-11bee821aa55",
   "metadata": {},
   "source": [
    "環境はRNA_sqe"
   ]
  },
  {
   "cell_type": "code",
   "execution_count": null,
   "id": "1c288d9d-2a10-4e76-8285-337f47eab8ae",
   "metadata": {},
   "outputs": [],
   "source": [
    "conda activate RNAseq"
   ]
  },
  {
   "cell_type": "markdown",
   "id": "8f763196-2c8e-4834-adec-57316b77de7a",
   "metadata": {},
   "source": [
    "seqkitのインストールコマンド（一度インストールすれば次回から不要）"
   ]
  },
  {
   "cell_type": "code",
   "execution_count": null,
   "id": "05b2a058-ae69-422d-95d3-fa4562a6aaf6",
   "metadata": {},
   "outputs": [],
   "source": [
    "mamba install -c bioconda seqkit"
   ]
  },
  {
   "cell_type": "markdown",
   "id": "1d49d664-1805-42e9-b360-59a9fbbf0213",
   "metadata": {},
   "source": [
    "fastqファイルの中身を見る"
   ]
  },
  {
   "cell_type": "code",
   "execution_count": null,
   "id": "769672cd-8554-425d-b4a2-3be408f3f425",
   "metadata": {},
   "outputs": [],
   "source": [
    "seqkit stats *_001.fastq.gz > statistics.tsv"
   ]
  },
  {
   "cell_type": "markdown",
   "id": "3fbb18e8-6587-42d2-8573-abf33628d5e4",
   "metadata": {},
   "source": [
    "seqkit statsコマンドでfastqファイルをタブで分ける/ statistics.tvsは出力されるファイル名（任意に変更可能）"
   ]
  },
  {
   "cell_type": "code",
   "execution_count": null,
   "id": "42103f07-2c49-43de-afc0-6e3dba138cdd",
   "metadata": {},
   "outputs": [],
   "source": [
    "seqkit stats -T *_001.fastq.gz > statistics.tsv"
   ]
  },
  {
   "cell_type": "markdown",
   "id": "525f8ed1-5b15-4231-b681-690ef4aa21ac",
   "metadata": {},
   "source": [
    "出力されたデータをexcelで開き表を成型する。その後適切なファイル名に変更し保存する。"
   ]
  },
  {
   "cell_type": "markdown",
   "id": "2a8ad34e-e237-439f-9068-92e11f5ed011",
   "metadata": {},
   "source": [
    "アダプター配列を検索して、それを抜いた配列を表示させる\n",
    "\"|\"　コマンドを左から順番に実行させる\n",
    "\"-v\"　検索でヒットした配列を抜く\n",
    "\"@\"　\n"
   ]
  },
  {
   "cell_type": "markdown",
   "id": "cbb82bdf-3ce6-4dec-b1b7-cd45f55302b5",
   "metadata": {},
   "source": [
    "\"wc\" ヒットした行数を表示する\n",
    "wc -l"
   ]
  },
  {
   "cell_type": "code",
   "execution_count": null,
   "id": "76673bd8-c8b1-4fd2-9381-1bb7ad84383c",
   "metadata": {},
   "outputs": [],
   "source": [
    "grep  -v \"@\" R1.fastq |grep \"ATTCCATA\" |wc -l"
   ]
  },
  {
   "cell_type": "code",
   "execution_count": null,
   "id": "416de20a-7c71-4048-bc56-46a0d67d0daa",
   "metadata": {},
   "outputs": [],
   "source": [
    "grep  -v \"@\" R1.fastq |grep \"ATTCCATA\" |less"
   ]
  },
  {
   "attachments": {},
   "cell_type": "markdown",
   "id": "d413e7c5-6c44-4757-9911-d8becce75de0",
   "metadata": {},
   "source": [
    "fastpを使うとリードの品質が低い領域のトリミングとアダプター除去を\n",
    "１度に実行できる（ブログ）。Phred qualityスコア20以下のリード領域をトリミング”-q 20”\n",
    "-t, -T 1は塩基の左右の一塩基を強制的に取り除いている（NGSだと最初と最後の一文字の精度が低いため）\n",
    "-w 8 CUPを8個使うという事"
   ]
  },
  {
   "cell_type": "code",
   "execution_count": null,
   "id": "f0e8498e-1dab-4602-a994-d42d3772310b",
   "metadata": {},
   "outputs": [],
   "source": [
    "fastp -i WT-2_R1_001.fastq.gz -I WT-2_R2_001.fastq.gz -3 -o out_pair1.fq.gz -O out_pair2.fq.gz \\-h report.html -j report.json -q 20 -t 1 -T 1 -l 20 -w 8 -f 1 -F 1"
   ]
  },
  {
   "cell_type": "markdown",
   "id": "8ca7af06-a36c-4572-be7d-6f45781fdf9d",
   "metadata": {},
   "source": [
    "出力されたreporファイル(HTMLファイル)を開く"
   ]
  },
  {
   "cell_type": "markdown",
   "id": "89108964-3ea3-437d-b7a1-4832c3fa66b0",
   "metadata": {},
   "source": [
    "より精度を高めother adapter sequenceを減らすためアダプター配列(pdfに書いてある)を指定して抜くコマンド"
   ]
  },
  {
   "cell_type": "code",
   "execution_count": null,
   "id": "175a3010-9c68-4b1b-81b6-41d61871ae1e",
   "metadata": {},
   "outputs": [],
   "source": [
    "fastp -i WT-2_R1_001.fastq.gz -I WT-2_R2_001.fastq.gz -3 -o out_pair1.fq.gz -O out_pair2.fq.gz \\-h report.html -j report.json -q 20 -t 1 -T 1 -l 20 -w 8 -f 1 -F 1 --adapter_sequence ATTCCATA --adapter_sequence_r2 CGCTCCAC  "
   ]
  },
  {
   "cell_type": "markdown",
   "id": "2e1e3e80-bb8a-49d4-8e5f-ad6ec9b18bbe",
   "metadata": {},
   "source": [
    "同様にHTMLのレポートを開いてother adapter sequenceが減っていることを確認する\n",
    "（今回は何故か増えた）"
   ]
  },
  {
   "cell_type": "markdown",
   "id": "ec105412-6dac-4d48-b141-f3d56e3e6060",
   "metadata": {},
   "source": [
    "他の物でも同じように実行する"
   ]
  },
  {
   "cell_type": "code",
   "execution_count": null,
   "id": "8c99be35-54de-43dc-b672-0f4fa8afc68e",
   "metadata": {},
   "outputs": [],
   "source": [
    "fastp -i dg237_R1_001.fastq.gz -I dg237_R2_001.fastq.gz -3 -o out_pair1_dg237_R1.fq.gz -O out_pair2_dg237_R2.fq.gz \\-h report_dg237.html -j report_dg237.json -q 20 -t 1 -T 1 -l 20 -w 8 -f 1 -F 1 --adapter_sequence AGGTCAGA --adapter_sequence_r2 CGCTCCAC"
   ]
  },
  {
   "cell_type": "code",
   "execution_count": null,
   "id": "0eb9058d-e6b2-4a9c-b8c3-ef497ac62a86",
   "metadata": {},
   "outputs": [],
   "source": [
    "fastp -i BR10PR22_R1_001.fastq.gz -I BR10PR22_R2_001.fastq.gz -3 -o out_pair1_BR10PR22_R1.fq.gz -O out_pair2_BR10PR22_R2.fq.gz \\-h report_BR10PR22.html -j report_BR10PR22.json -q 20 -t 1 -T 1 -l 20 -w 8 -f 1 -F 1 --adapter_sequence GACGAGAT --adapter_sequence_r2 ATTAACAA"
   ]
  },
  {
   "cell_type": "markdown",
   "id": "fe83c183-2d5c-40b5-ab27-a581f36ab395",
   "metadata": {},
   "source": [
    "いったんここまででゲノムデータの掃除が終わり"
   ]
  },
  {
   "cell_type": "markdown",
   "id": "e06ca0ed-2cec-4311-8371-a37b64e93b04",
   "metadata": {},
   "source": [
    "ここからDNAのマッピングに入る\n",
    "まずはインデックスを引く\n",
    "インデックスをつける作業は1つのリファレンスゲノムに対して1回だけでOK"
   ]
  },
  {
   "cell_type": "code",
   "execution_count": null,
   "id": "7ab71ee3-529a-45a4-b391-a6b17dc97e6a",
   "metadata": {},
   "outputs": [],
   "source": [
    "bowtie2-build GCA_002142475.1.fna bowite2_index"
   ]
  },
  {
   "cell_type": "markdown",
   "id": "e53bc414-df4f-4c28-8b08-c3bc81dac551",
   "metadata": {},
   "source": [
    "インデックスファイルに対して、各サンプル（1サンプル当たり2つのファイル、先ほどきれいに整えたデータ、拡張子は.gzのままで大丈夫）をindexを用いてアラインメントさせる"
   ]
  },
  {
   "cell_type": "code",
   "execution_count": null,
   "id": "8c8f32c4-2ada-481d-a8b2-c7f58a4068fb",
   "metadata": {},
   "outputs": [],
   "source": [
    "bowtie2 --sensitive -x bowite2_index -1 out_pair1.fq.gz -2 out_pair2.fq.gz |samtools sort -@ 8 - >sample1_WT-2.bam"
   ]
  },
  {
   "cell_type": "markdown",
   "id": "359ddcbc-1ebe-43df-a022-95e55fccd049",
   "metadata": {},
   "source": [
    "出力されたbamファイルもインデックスをつけてあげる"
   ]
  },
  {
   "cell_type": "code",
   "execution_count": null,
   "id": "30db07f9-e42d-4e97-82bc-efb72371cff7",
   "metadata": {},
   "outputs": [],
   "source": [
    "samtools index -@ 4 sample1_WT-2.bam"
   ]
  },
  {
   "cell_type": "code",
   "execution_count": null,
   "id": "5c1bec62-17ad-49cb-9356-1132fbfc1a4f",
   "metadata": {},
   "outputs": [],
   "source": [
    "最後にマッピング率を調べる。"
   ]
  },
  {
   "cell_type": "code",
   "execution_count": null,
   "id": "cb96535e-ec0f-461d-90b4-a3578ead14d4",
   "metadata": {},
   "outputs": [],
   "source": [
    "samtools flagstats sample1_WT-2.bam"
   ]
  },
  {
   "cell_type": "markdown",
   "id": "42100bcb-fffc-4ef2-9afc-1ab5d8470c5e",
   "metadata": {},
   "source": [
    "上手くいったコマンド（トレーニングで）"
   ]
  },
  {
   "cell_type": "code",
   "execution_count": null,
   "id": "b8bc0eb9-ec36-4ab0-bd5d-b93ad5cabafb",
   "metadata": {},
   "outputs": [],
   "source": [
    "fastp_opts=\"-3 -q 20 -t 1 -T 1 -l 20 -w 8 -f 1 -F 1\"\n",
    "\n",
    "# fastpコマンドの実行\n",
    "fastp -i WT-2_R1_001.fastq.gz -I WT-2_R2_001.fastq.gz -o out_pair1_WT-2.fq.gz -O out_pair2_WT-2.fq.gz -h report_WT-2.html -j report_WT-2.json --adapter_sequence ATTCCATA --adapter_sequence_r2 CGCTCCAC $fastp_opts || { echo \"WT-2でエラーが発生しました。\"; exit 1; }\n",
    "\n",
    "fastp -i dg237_R1_001.fastq.gz -I dg237_R2_001.fastq.gz -o out_pair1_dg237.fq.gz -O out_pair2_dg237.fq.gz -h report_dg237.html -j report_dg237.json --adapter_sequence AGGTCAGA --adapter_sequence_r2 CGCTCCAC $fastp_opts || { echo \"dg237でエラーが発生しました。\"; exit 1; }\n",
    "\n",
    "# bowtie2のインデックス作成\n",
    "bowtie2-build GCA_002142475.1.fna bowtie2_index || { echo \"bowtie2-buildでエラーが発生しました。\"; exit 1; }\n",
    "\n",
    "# bowtie2によるマッピングとsamtoolsによるソート\n",
    "bowtie2 --sensitive -x bowtie2_index -1 out_pair1_WT-2.fq.gz -2 out_pair2_WT-2.fq.gz | samtools sort -@ 8 -o WT-2.bam || { echo \"WT-2のマッピングでエラーが発生しました。\"; exit 1; }\n",
    "\n",
    "bowtie2 --sensitive -x bowtie2_index -1 out_pair1_dg237.fq.gz -2 out_pair2_dg237.fq.gz | samtools sort -@ 8 -o dg237.bam || { echo \"dg237のマッピングでエラーが発生しました。\"; exit 1; }\n",
    "\n",
    "# samtoolsによるインデックス作成\n",
    "samtools index -@ 4 WT-2.bam || { echo \"WT-2.bamのインデックス作成でエラーが発生しました。\"; exit 1; }\n",
    "samtools index -@ 4 dg237.bam || { echo \"dg237.bamのインデックス作成でエラーが発生しました。\"; exit 1; }\n",
    "\n",
    "# samtools flagstatsの実行と結果のファイル出力\n",
    "samtools flagstats WT-2.bam > WT-2_flagstats.txt || { echo \"WT-2.bamのflagstatsでエラーが発生しました。\"; exit 1; }\n",
    "samtools flagstats dg237.bam > dg237_flagstats.txt || { echo \"dg237.bamのflagstatsでエラーが発生しました。\"; exit 1; }\n"
   ]
  },
  {
   "cell_type": "markdown",
   "id": "c3967f70-a85c-4670-9e94-18736850628c",
   "metadata": {},
   "source": [
    "完成品"
   ]
  },
  {
   "cell_type": "code",
   "execution_count": null,
   "id": "08bd7fc0-d365-487a-bd44-ec731acf5871",
   "metadata": {},
   "outputs": [],
   "source": [
    "# Step 1: 初期FASTQ統計情報\n",
    "seqkit stats -T *_001.fastq.gz > statistics.fastq.tsv || { echo \"seqkit stats エラー\"; exit 1; }\n",
    "\n",
    "# Step 2: fastpによるトリミングとレポート生成\n",
    "fastp_opts=\"-3 -q 20 -t 1 -T 1 -l 20 -w 8 -f 1 -F 1\"\n",
    "for sample in \"WT\" \"WT-2\" \"dg230\" \"dg230-2\" \"dg231\" \"dg231-2\" \"dg232\" \"dg232-2\" \"dg233\" \"dg233-2\" \"dg234\" \"dg234-2\" \"dg235\" \"dg235-2\" \"dg236\" \"dg236-2\" \"dg237\" \"dg237-2\" \"dg238\" \"dg238-2\" \"dg239\" \"dg239-2\" \"dg240\" \"dg240-2\" \"dg241\" \"dg241-2\" \"dg242\" \"dg242-2\"; do\n",
    "  case $sample in\n",
    "    \"WT\") adapter1=\"GAACTGAG\"; adapter2=\"CGCTCCAC\";;\n",
    "    \"WT-2\") adapter1=\"ATTCCATA\"; adapter2=\"CGCTCCAC\";;\n",
    "    \"dg230\") adapter1=\"GAACTGAG\"; adapter2=\"TATCTTGT\";;\n",
    "    \"dg230-2\") adapter1=\"ATTCCATA\"; adapter2=\"TATCTTGT\";;\n",
    "    \"dg231\") adapter1=\"GAACTGAG\"; adapter2=\"AGCTACTA\";;\n",
    "    \"dg231-2\") adapter1=\"ATTCCATA\"; adapter2=\"CCACCAGG\";;\n",
    "    \"dg232\") adapter1=\"GAACTGAG\"; adapter2=\"CCACCAGG\";;\n",
    "    \"dg232-2\") adapter1=\"ATTCCATA\"; adapter2=\"CCACCAGG\";;\n",
    "    \"dg233\") adapter1=\"GAACTGAG\"; adapter2=\"AGGATAAT\";;\n",
    "    \"dg233-2\") adapter1=\"ATTCCATA\"; adapter2=\"AGGATAAT\";;\n",
    "    \"dg234\") adapter1=\"GAACTGAG\"; adapter2=\"ACAAGTGG\";;\n",
    "    \"dg234-2\") adapter1=\"ATTCCATA\"; adapter2=\"ACAAGTGG\";;\n",
    "    \"dg235\") adapter1=\"GAACTGAG\"; adapter2=\"TACTGTTC\";;\n",
    "    \"dg235-2\") adapter1=\"ATTCCATA\"; adapter2=\"TACTGTTC\";;\n",
    "    \"dg236\") adapter1=\"GAACTGAG\"; adapter2=\"ATTAACAA\";;\n",
    "    \"dg236-2\") adapter1=\"ATTCCATA\"; adapter2=\"ATTAACAA\";;\n",
    "    \"dg237\") adapter1=\"AGGTCAGA\"; adapter2=\"CGCTCCAC\";;\n",
    "    \"dg237-2\") adapter1=\"GACGAGAT\"; adapter2=\"CGCTCCAC\";;\n",
    "    \"dg238\") adapter1=\"AGGTCAGA\"; adapter2=\"TATCTTGT\";;\n",
    "    \"dg238-2\") adapter1=\"GACGAGAT\"; adapter2=\"TATCTTGT\";;\n",
    "    \"dg239\") adapter1=\"AGGTCAGA\"; adapter2=\"AGCTACTA\";;\n",
    "    \"dg239-2\") adapter1=\"GACGAGAT\"; adapter2=\"AGCTACTA\";;\n",
    "    \"dg240\") adapter1=\"AGGTCAGA\"; adapter2=\"CCACCAGG\";;\n",
    "    \"dg240-2\") adapter1=\"GACGAGAT\"; adapter2=\"CCACCAGG\";;\n",
    "    \"dg241\") adapter1=\"AGGTCAGA\"; adapter2=\"AGGATAAT\";;\n",
    "    \"dg241-2\") adapter1=\"GACGAGAT\"; adapter2=\"AGGATAAT\";;\n",
    "    \"dg242\") adapter1=\"AGGTCAGA\"; adapter2=\"ACAAGTGG\";;\n",
    "    \"dg242-2\") adapter1=\"GACGAGAT\"; adapter2=\"ACAAGTGG\";;\n",
    "  esac\n",
    "  fastp -i ${sample}_R1_001.fastq.gz -I ${sample}_R2_001.fastq.gz \\\n",
    "        -o out_pair1_${sample}.fq.gz -O out_pair2_${sample}.fq.gz \\\n",
    "        -h report_${sample}.html -j report_${sample}.json \\\n",
    "        --adapter_sequence $adapter1 --adapter_sequence_r2 $adapter2 $fastp_opts || { echo \"fastp エラー - $sample\"; exit 1; }\n",
    "done\n",
    "\n",
    "# Step 3: トリミング後のFASTQ統計情報\n",
    "seqkit stats -T out_pair*.fq.gz > statistics.fq.tsv || { echo \"seqkit stats エラー\"; exit 1; }\n",
    "\n",
    "# Step 4: Bowtie2インデックス作成\n",
    "bowtie2-build GCA_002142475.1.fna bowtie2_index || { echo \"Bowtie2インデックス作成エラー\"; exit 1; }\n",
    "\n",
    "# Step 5: アライメントとソート\n",
    "for sample in \"WT\" \"WT-2\" \"dg230\" \"dg230-2\" \"dg231\" \"dg231-2\"  \"dg232\" \"dg232-2\" \"dg233\" \"dg233-2\" \"dg234\" \"dg234-2\" \"dg235\" \"dg235-2\" \"dg236\" \"dg236-2\" \"dg237\" \"dg237-2\" \"dg238\" \"dg238-2\" \"dg239\" \"dg239-2\" \"dg240\" \"dg240-2\" \"dg241\" \"dg241-2\" \"dg242\" \"dg242-2\"; do\n",
    "  bowtie2 --sensitive -x bowtie2_index -p 8 -1 out_pair1_${sample}.fq.gz -2 out_pair2_${sample}.fq.gz | \\\n",
    "  samtools sort -@ 8 -o ${sample}.bam || { echo \"Bowtie2アライメントエラー - $sample\"; exit 1; }\n",
    "done\n",
    "\n",
    "# Step 6: BAMインデックス作成\n",
    "for sample in \"WT\" \"WT-2\" \"dg230\" \"dg230-2\" \"dg231\" \"dg231-2\" \"dg232\" \"dg232-2\" \"dg233\" \"dg233-2\" \"dg234\" \"dg234-2\" \"dg235\" \"dg235-2\" \"dg236\" \"dg236-2\" \"dg237\" \"dg237-2\" \"dg238\" \"dg238-2\" \"dg239\" \"dg239-2\" \"dg240\" \"dg240-2\" \"dg241\" \"dg241-2\" \"dg242\" \"dg242-2\"; do\n",
    "  samtools index -@ 4 ${sample}.bam || { echo \"samtoolsインデックス作成エラー - $sample\"; exit 1; }\n",
    "done\n",
    "\n",
    "# Step 7: BAM統計情報\n",
    "for sample in \"WT\" \"WT-2\" \"dg230\" \"dg230-2\" \"dg231\" \"dg231-2\" \"dg232\" \"dg232-2\" \"dg233\" \"dg233-2\" \"dg234\" \"dg234-2\" \"dg235\" \"dg235-2\" \"dg236\" \"dg236-2\" \"dg237\" \"dg237-2\" \"dg238\" \"dg238-2\" \"dg239\" \"dg239-2\" \"dg240\" \"dg240-2\" \"dg241\" \"dg241-2\" \"dg242\" \"dg242-2\"; do\n",
    "  samtools flagstat ${sample}.bam > ${sample}_flagstats.txt || { echo \"samtools flagstat エラー - $sample\"; exit 1; }\n",
    "done\n",
    "\n",
    "# Step 8: BAM統計情報をまとめる\n",
    "cat *_flagstats.txt > all_flagstats.txt || { echo \"BAM統計情報の結合エラー\"; exit 1; }\n"
   ]
  },
  {
   "cell_type": "markdown",
   "id": "6ae7a385-48fc-4824-a506-1d6913a0ed71",
   "metadata": {},
   "source": [
    "マッピング率が低かった２つのサンプルを改めて解析してみた。"
   ]
  },
  {
   "cell_type": "code",
   "execution_count": null,
   "id": "e920151f-440c-4fd4-99e1-fc0c08307917",
   "metadata": {},
   "outputs": [],
   "source": [
    "# Step 1: 初期FASTQ統計情報\n",
    "seqkit stats -T *_001.fastq.gz > statistics.fastq.tsv || { echo \"seqkit stats エラー\"; exit 1; }\n",
    "\n",
    "# Step 2: fastpによるトリミングとレポート生成\n",
    "fastp_opts=\"-3 -q 20 -t 1 -T 1 -l 20 -w 8 -f 1 -F 1\"\n",
    "for sample in \"dg236-2\" \"dg238-2\"; do\n",
    "  case $sample in\n",
    "    \"dg236-2\") adapter1=\"ATTCCATA\"; adapter2=\"ATTAACAA\";;\n",
    "    \"dg238-2\") adapter1=\"GACGAGAT\"; adapter2=\"TATCTTGT\";;\n",
    "  esac\n",
    "  fastp -i ${sample}_R1_001.fastq.gz -I ${sample}_R2_001.fastq.gz \\\n",
    "        -o out_pair1_${sample}.fq.gz -O out_pair2_${sample}.fq.gz \\\n",
    "        -h report_${sample}.html -j report_${sample}.json \\\n",
    "        --adapter_sequence $adapter1 --adapter_sequence_r2 $adapter2 $fastp_opts || { echo \"fastp エラー - $sample\"; exit 1; }\n",
    "done\n",
    "\n",
    "# Step 3: トリミング後のFASTQ統計情報\n",
    "seqkit stats -T out_pair*.fq.gz > statistics.fq.tsv || { echo \"seqkit stats エラー\"; exit 1; }\n",
    "\n",
    "# Step 4: Bowtie2インデックス作成\n",
    "bowtie2-build GCA_002142475.1.fna bowtie2_index || { echo \"Bowtie2インデックス作成エラー\"; exit 1; }\n",
    "\n",
    "# Step 5: アライメントとソート\n",
    "for sample in \"dg236-2\" \"dg238-2\"; do\n",
    "  bowtie2 --sensitive -x bowtie2_index -p 8 -1 out_pair1_${sample}.fq.gz -2 out_pair2_${sample}.fq.gz | \\\n",
    "  samtools sort -@ 8 -o ${sample}.bam || { echo \"Bowtie2アライメントエラー - $sample\"; exit 1; }\n",
    "done\n",
    "\n",
    "# Step 6: BAMインデックス作成\n",
    "for sample in \"dg236-2\" \"dg238-2\"; do\n",
    "  samtools index -@ 4 ${sample}.bam || { echo \"samtoolsインデックス作成エラー - $sample\"; exit 1; }\n",
    "done\n",
    "\n",
    "# Step 7: BAM統計情報\n",
    "for sample in \"dg236-2\" \"dg238-2\"; do\n",
    "  samtools flagstat ${sample}.bam > ${sample}_flagstats.txt || { echo \"samtools flagstat エラー - $sample\"; exit 1; }\n",
    "done\n",
    "\n",
    "# Step 8: BAM統計情報をまとめる\n",
    "cat *_flagstats.txt > all_flagstats.txt || { echo \"BAM統計情報の結合エラー\"; exit 1; }\n"
   ]
  },
  {
   "cell_type": "markdown",
   "id": "fa083353-e6ea-44a3-b1bc-94b62b90de05",
   "metadata": {},
   "source": [
    "IGVでアラインメントを可視化する"
   ]
  },
  {
   "cell_type": "code",
   "execution_count": null,
   "id": "115c7f16-b8cf-445b-9b95-55df1bb150a2",
   "metadata": {},
   "outputs": [],
   "source": [
    "igv -g GCA_002142475.1.fna sample1_WT-2.bam"
   ]
  },
  {
   "cell_type": "markdown",
   "id": "f8515e5a-d24c-4c98-abe4-9ae37cd261f0",
   "metadata": {},
   "source": [
    "breseqで変異が生じている場所を特定する。（IGVと合わせてほんとの変異かどうか確認する）※時間かかるので注意\n",
    "WT-2_breseq_resultは出力フォルダ名で任意に"
   ]
  },
  {
   "cell_type": "code",
   "execution_count": null,
   "id": "c4683e1a-1d6c-4347-8a38-6f0edf93d69d",
   "metadata": {},
   "outputs": [],
   "source": [
    " breseq -r Leptolyngbya_boryana_IAM101.gbk -o WT-2_breseq_relut WT-2_R1_001.fastq.gz WT-2_R2_001.fastq.gz"
   ]
  },
  {
   "cell_type": "markdown",
   "id": "29fb8fd4-49a2-45a7-9ade-71da940194c8",
   "metadata": {},
   "source": [
    "gdファイルを統合する"
   ]
  },
  {
   "cell_type": "code",
   "execution_count": null,
   "id": "0d13332e-4c8a-401e-8b4e-823be618aa15",
   "metadata": {},
   "outputs": [],
   "source": [
    "gdtools COMPARE -o integrate.html -r Leptolyngbya_boryana_IAM101.gbk BR10PR22_output.gd dg237_output.gd WT-2_output.gd"
   ]
  }
 ],
 "metadata": {
  "kernelspec": {
   "display_name": "Python 3 (ipykernel)",
   "language": "python",
   "name": "python3"
  },
  "language_info": {
   "codemirror_mode": {
    "name": "ipython",
    "version": 3
   },
   "file_extension": ".py",
   "mimetype": "text/x-python",
   "name": "python",
   "nbconvert_exporter": "python",
   "pygments_lexer": "ipython3",
   "version": "3.13.0"
  }
 },
 "nbformat": 4,
 "nbformat_minor": 5
}
